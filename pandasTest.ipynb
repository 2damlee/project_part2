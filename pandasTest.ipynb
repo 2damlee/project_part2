{
 "cells": [
  {
   "cell_type": "code",
   "execution_count": 41,
   "metadata": {},
   "outputs": [
    {
     "name": "stdout",
     "output_type": "stream",
     "text": [
      "                   CountryName CountryCode      IndicatorName   IndicatorCode  \\\n",
      "0                        Aruba         ABW  GDP (current US$)  NY.GDP.MKTP.CD   \n",
      "1  Africa Eastern and Southern         AFE  GDP (current US$)  NY.GDP.MKTP.CD   \n",
      "2                  Afghanistan         AFG  GDP (current US$)  NY.GDP.MKTP.CD   \n",
      "3   Africa Western and Central         AFW  GDP (current US$)  NY.GDP.MKTP.CD   \n",
      "4                       Angola         AGO  GDP (current US$)  NY.GDP.MKTP.CD   \n",
      "\n",
      "   Year           GDP  \n",
      "0  1960           NaN  \n",
      "1  1960  2.112502e+10  \n",
      "2  1960  5.377778e+08  \n",
      "3  1960  1.044764e+10  \n",
      "4  1960           NaN  \n",
      "   ID                      Name Sex   Age  Height  Weight     CountryName  \\\n",
      "0   1                 A Dijiang   M  24.0   180.0    80.0           China   \n",
      "1   2                  A Lamusi   M  23.0   170.0    60.0           China   \n",
      "2   3       Gunnar Nielsen Aaby   M  24.0     NaN     NaN         Denmark   \n",
      "3   4      Edgar Lindenau Aabye   M  34.0     NaN     NaN  Denmark/Sweden   \n",
      "4   5  Christine Jacoba Aaftink   F  21.0   185.0    82.0     Netherlands   \n",
      "\n",
      "   NOC        Games  Year  Season       City          Sport  \\\n",
      "0  CHN  1992 Summer  1992  Summer  Barcelona     Basketball   \n",
      "1  CHN  2012 Summer  2012  Summer     London           Judo   \n",
      "2  DEN  1920 Summer  1920  Summer  Antwerpen       Football   \n",
      "3  DEN  1900 Summer  1900  Summer      Paris     Tug-Of-War   \n",
      "4  NED  1988 Winter  1988  Winter    Calgary  Speed Skating   \n",
      "\n",
      "                              Event Medal  \n",
      "0       Basketball Men's Basketball   NaN  \n",
      "1      Judo Men's Extra-Lightweight   NaN  \n",
      "2           Football Men's Football   NaN  \n",
      "3       Tug-Of-War Men's Tug-Of-War  Gold  \n",
      "4  Speed Skating Women's 500 metres   NaN  \n"
     ]
    }
   ],
   "source": [
    "import pandas as pd\n",
    "\n",
    "# Load the datasets\n",
    "athelet_df = pd.read_csv('data/athlete_events.csv')\n",
    "gdp_df = pd.read_csv('data/gdp_data.csv', skiprows=4)\n",
    "\n",
    "\n",
    "## Cleaning datasets\n",
    "\n",
    "# Transform GDP data using melt\n",
    "gdp_data_long = gdp_df.melt(id_vars=['Country Name', 'Country Code', 'Indicator Name', 'Indicator Code'],\n",
    "                             var_name='Year', value_name='GDP')\n",
    "gdp_data_long = gdp_data_long[gdp_data_long['Year'] != 'Unnamed: 67']\n",
    "gdp_df = gdp_data_long\n",
    "# convert year values into an integer type\n",
    "gdp_data_long['Year'] = gdp_data_long['Year'].astype(int)\n",
    "\n",
    "# Rename columns\n",
    "gdp_df = gdp_df.rename(columns={\n",
    "    'Country Name': 'CountryName',\n",
    "    'Country Code': 'CountryCode',\n",
    "    'Indicator Name': 'IndicatorName',\n",
    "    'Indicator Code': 'IndicatorCode',\n",
    "})\n",
    "\n",
    "athelet_df = athelet_df.rename(columns={\n",
    "    'Team': 'CountryName'\n",
    "})\n",
    "\n",
    "# Check the each dataset\n",
    "print(gdp_df.head())\n",
    "print(athelet_df.head())\n"
   ]
  },
  {
   "cell_type": "code",
   "execution_count": 45,
   "metadata": {},
   "outputs": [
    {
     "name": "stdout",
     "output_type": "stream",
     "text": [
      "(18307, 5)\n",
      "                       Name CountryName  Year   Medal           GDP\n",
      "0  Juhamatti Tapio Aaltonen     Finland  2014  Bronze  2.748628e+11\n",
      "1         Aleksander Barkov     Finland  2014  Bronze  2.748628e+11\n",
      "2    Mikael Antero Granlund     Finland  2014  Bronze  2.748628e+11\n",
      "3            Juuso Hietanen     Finland  2014  Bronze  2.748628e+11\n",
      "4            Jarkko Immonen     Finland  2014  Bronze  2.748628e+11\n"
     ]
    }
   ],
   "source": [
    "## Combine two datasets \n",
    "\n",
    "# select columns what we need\n",
    "athelet_df = athelet_df[['Name', 'CountryName', 'Year', 'Medal']]\n",
    "gdp_df = gdp_df[['CountryName', 'Year', 'GDP']]\n",
    "\n",
    "\n",
    "# Dropping rows where value is NA\n",
    "athelet_df.dropna(subset=['Medal'], inplace=True)\n",
    "gdp_df.dropna(subset=['GDP'], inplace=True)\n",
    "\n",
    "# ## Merging datasets on 'Team' and 'Year'\n",
    "merged_df = pd.merge(athelet_df, gdp_df, on=['CountryName', 'Year'])\n",
    "\n",
    "# check the dataset\n",
    "print(merged_df.shape)\n",
    "print(merged_df.head())"
   ]
  },
  {
   "cell_type": "code",
   "execution_count": 48,
   "metadata": {},
   "outputs": [
    {
     "name": "stdout",
     "output_type": "stream",
     "text": [
      "   CountryName  Year  TotalMedals  TotalPoints           GDP\n",
      "0  Afghanistan  2008            1            1  1.024977e+10\n",
      "1  Afghanistan  2012            1            1  2.020357e+10\n",
      "2      Algeria  1984            2            2  5.369855e+10\n",
      "3      Algeria  1992            2            4  4.800313e+10\n",
      "4      Algeria  1996            3            7  4.694155e+10\n",
      "   CountryName  Year  TotalMedals  TotalPoints           GDP\n",
      "0  Afghanistan  2008            1            1  1.024977e+10\n",
      "1  Afghanistan  2012            1            1  2.020357e+10\n",
      "2      Algeria  1984            2            2  5.369855e+10\n",
      "3      Algeria  1992            2            4  4.800313e+10\n",
      "4      Algeria  1996            3            7  4.694155e+10\n"
     ]
    }
   ],
   "source": [
    "## Quantify Olympic performance\n",
    "\n",
    "# Assign points to medals\n",
    "medal_points = {'Gold': 3, 'Silver': 2, 'Bronze': 1}\n",
    "merged_df['MedalPoints'] = merged_df['Medal'].map(medal_points)\n",
    "\n",
    "# Group by Country and Year to calculate total points\n",
    "performance_df = merged_df.groupby(['CountryName', 'Year']).agg(\n",
    "    TotalMedals=('Medal', 'count'),  # Count of medals\n",
    "    TotalPoints=('MedalPoints', 'sum')  # Sum of points\n",
    ").reset_index()\n",
    "\n",
    "# Merging the performance data with GDP data\n",
    "final_df = pd.merge(performance_df, gdp_df, on=['CountryName', 'Year'])\n",
    "\n",
    "# Display the final DataFrame\n",
    "print(final_df.head())\n",
    "\n",
    "# Sort the data\n",
    "final_df = final_df.sort_values(by=['CountryName', 'Year'])\n",
    "print(final_df.head())"
   ]
  }
 ],
 "metadata": {
  "kernelspec": {
   "display_name": "Python 3",
   "language": "python",
   "name": "python3"
  },
  "language_info": {
   "codemirror_mode": {
    "name": "ipython",
    "version": 3
   },
   "file_extension": ".py",
   "mimetype": "text/x-python",
   "name": "python",
   "nbconvert_exporter": "python",
   "pygments_lexer": "ipython3",
   "version": "3.11.4"
  }
 },
 "nbformat": 4,
 "nbformat_minor": 2
}
